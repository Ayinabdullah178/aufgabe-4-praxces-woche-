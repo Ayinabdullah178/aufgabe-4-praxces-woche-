{
 "cells": [
  {
   "cell_type": "code",
   "execution_count": 4,
   "metadata": {},
   "outputs": [],
   "source": [
    "import requests\n",
    "import json"
   ]
  },
  {
   "cell_type": "code",
   "execution_count": 2,
   "metadata": {},
   "outputs": [
    {
     "name": "stdout",
     "output_type": "stream",
     "text": [
      "Mangas\n",
      "[{'mang_id': 1, 'mange_title': 'Attack on Titan', 'band_name': 'eins', 'Erscheinung_Jahr': 2017, 'Herausgeber': 'Egmont_Manga', 'Autor': 'Makoto Shinkal', 'seitenzahl': 180}, {'mange_id': 2, 'mange_title': 'Attack on Titan ', 'band_name': 'eins', 'Erscheinung_Jahr': 2014, 'Herausgeber': 'Carlsen', 'Autor': 'Hajime Isayama', 'seitenzahl': 192}, {'mange_id': 3, 'mange_title': 'Death Note', 'band_name': 'eins', 'Erscheinung_Jahr': 2015, 'Herausgeber': 'TOKYOPOP', 'Autor': 'Takeshi Obata  und Tsugumi Ohba', 'seitenzahl': '208'}]\n",
      "animes\n",
      "[{'anime_id': 1, 'anime_title': 'Death Note', 'Erscheinung_Jahr': 2006, 'Herausgeber': 'Yosuke Yafune', 'länger': 125}, {'anime_id': 2, 'anime_title': 'Attack on Titan', 'Erscheinung_jahr': 2013, 'Herausgeber': 'Mikasa Ackermann', 'länger': '\\t120'}, {'anime_id': 3, 'anime_title': 'One Piece', 'Erscheinung_Jahr': 1999, 'Herausgeber': 'Eiichirō Oda', 'länger': 24}]\n",
      "anime 3\n",
      "{'anime_id': 3, 'anime_title': 'One Piece', 'Erscheinung_Jahr': 1999, 'Herausgeber': 'Eiichirō Oda', 'länger': 24}\n",
      "seite title\n",
      "['Die werte von Mangas und Anime']\n"
     ]
    }
   ],
   "source": [
    "# vom Server ein paar Infos zu bekommen!\n",
    "import requests\n",
    "\n",
    "print(\"Mangas\")\n",
    "print(requests.get(\"http://127.0.0.1:5000/mangas\").json())\n",
    "print(\"animes\")\n",
    "print(requests.get(\"http://127.0.0.1:5000/animes\").json())\n",
    "print(\"anime 3\")\n",
    "print(requests.get(\"http://127.0.0.1:5000/animes/3\").json())\n",
    "print(\"seite title\")\n",
    "print(requests.get(\"http://127.0.0.1:5000\").json())"
   ]
  },
  {
   "cell_type": "code",
   "execution_count": 7,
   "metadata": {},
   "outputs": [
    {
     "name": "stdout",
     "output_type": "stream",
     "text": [
      "[{'mange_id': 1, 'mange_title': 'Attack on Titan', 'band_name': 'eins', 'Erscheinung_Jahr': 2017, 'Herausgeber': 'Egmont_Manga', 'Autor': 'Makoto Shinkal', 'seitenzahl': 180}, {'mange_id': 2, 'mange_title': 'Attack on Titan ', 'band_name': 'eins', 'Erscheinung_Jahr': 2014, 'Herausgeber': 'Carlsen', 'Autor': 'Hajime Isayama', 'seitenzahl': 192}, {'mange_id': 3, 'mange_title': 'Death Note', 'band_name': 'eins', 'Erscheinung_Jahr': 2015, 'Herausgeber': 'TOKYOPOP', 'Autor': 'Takeshi Obata  und Tsugumi Ohba', 'seitenzahl': 208}, {'mange_id': 4, 'mange_title': 'Black Butler', 'Bande_name': None, 'Erscheinung_Jahr': 2010, 'Herausgeber': 'Carlsen', 'Autor': 'Yana Toboso', 'seitenzahl': 194}]\n"
     ]
    },
    {
     "data": {
      "text/plain": [
       "'json_date = {\\n    \"mang_id\":4,\\n    \"mange_title\":\\'Black Butler\\',\\n    \"band_name\": \\'eins\\',\\n    \"Erscheinung_Jahr\":2010,\\n    \"Herausgeber\":\\'Carlsen\\',\\n    \"Autor\":\\'Yana Toboso\\',\\n    \"seitenzahl\": 195}\\nresponse = requests.put(\\'http://127.0.0.1:5000/maangas/4\\', headers=headers, json=json_date)\\nprint(response.json())'"
      ]
     },
     "execution_count": 7,
     "metadata": {},
     "output_type": "execute_result"
    }
   ],
   "source": [
    "#add mange\n",
    "headers = {\n",
    "   'accept': 'application/json',\n",
    "   'Content-Type': 'application/json',\n",
    "}\n",
    "\n",
    "json_date = {\n",
    "    \"mange_id\":4,\n",
    "    \"mange_title\":'Black Butler',\n",
    "    \"band_name\": 'eins',\n",
    "    \"Erscheinung_Jahr\":2010,\n",
    "    \"Herausgeber\":'Carlsen',\n",
    "    \"Autor\":'Yana Toboso',\n",
    "    \"seitenzahl\": 194}\n",
    "\n",
    "respons = requests.post('http://127.0.0.1:5000/mangass', headers=headers, json=json_date)\n",
    "print(respons.json())\n",
    "\n",
    "\n",
    "#updet\n",
    "'''json_date = {\n",
    "    \"mang_id\":4,\n",
    "    \"mange_title\":'Black Butler',\n",
    "    \"band_name\": 'eins',\n",
    "    \"Erscheinung_Jahr\":2010,\n",
    "    \"Herausgeber\":'Carlsen',\n",
    "    \"Autor\":'Yana Toboso',\n",
    "    \"seitenzahl\": 195}\n",
    "response = requests.put('http://127.0.0.1:5000/maangas/4', headers=headers, json=json_date)\n",
    "print(response.json())'''"
   ]
  },
  {
   "cell_type": "code",
   "execution_count": 23,
   "metadata": {},
   "outputs": [
    {
     "name": "stdout",
     "output_type": "stream",
     "text": [
      "[{'anime_id': 1, 'anime_title': 'Death Note', 'Erscheinung_Jahr': 2006, 'Herausgeber': 'Yosuke Yafune', 'länger': 125}, {'anime_id': 2, 'anime_title': 'Attack on Titan', 'Erscheinung_jahr': 2013, 'Herausgeber': 'Mikasa Ackermann', 'länger': 120}, {'anime_id': 3, 'anime_title': 'One Piece', 'Erscheinung_Jahr': 1999, 'Herausgeber': 'Eiichirō Oda', 'länger': 24}, {'anime_id': 4, 'mange_title': None, 'Erscheinung_Jahr': 2013, 'Herausgeber': 'Takeshi Abo', 'länger': 89}]\n"
     ]
    },
    {
     "data": {
      "text/plain": [
       "'json_date = {\\n    \"anime_id\":4,\\n    \"anime_title\":\\'Steins;Gate\\',\\n   \"Erscheinung_Jahr\":2015,\\n    \"Herausgeber\":\\'Takeshi Abo\\',\\n    \"länger\":100 }\\nresponse = requests.put(\\'http://127.0.0.1:5000/annimes/4\\', headers=headers, json=json_date)\\nprint(response.json())\\n\\nFür Delete\\nheaders = {\\n\\'accept\\': \\'application/json\\',\\n}\\nresponsee = requests.delete(\\'http://127.0.0.1:5000/animmes/4\\', headers=headers)\\nprint(responsee.json())'"
      ]
     },
     "execution_count": 23,
     "metadata": {},
     "output_type": "execute_result"
    }
   ],
   "source": [
    "import requests\n",
    "#add\n",
    "headers = {\n",
    "    'accept': 'application/json',\n",
    "    'Content-Type': 'application/json',\n",
    "}\n",
    "json_data = {\n",
    "    \"anime_id\":4,\n",
    "    \"anime_title\":'Steins Gate',\n",
    "   \"Erscheinung_Jahr\":2013,\n",
    "    \"Herausgeber\":'Takeshi Abo',\n",
    "    \"länger\":89 }\n",
    "\n",
    "respons = requests.post('http://127.0.0.1:5000/aniimes', headers=headers, json=json_data)\n",
    "print(respons.json())\n",
    "#updet\n",
    "'''json_date = {\n",
    "    \"anime_id\":4,\n",
    "    \"anime_title\":'Steins;Gate',\n",
    "   \"Erscheinung_Jahr\":2015,\n",
    "    \"Herausgeber\":'Takeshi Abo',\n",
    "    \"länger\":100 }\n",
    "response = requests.put('http://127.0.0.1:5000/annimes/4', headers=headers, json=json_date)\n",
    "print(response.json())\n",
    "\n",
    "Für Delete\n",
    "headers = {\n",
    "'accept': 'application/json',\n",
    "}\n",
    "responsee = requests.delete('http://127.0.0.1:5000/animmes/4', headers=headers)\n",
    "print(responsee.json())'''"
   ]
  },
  {
   "cell_type": "code",
   "execution_count": 8,
   "metadata": {},
   "outputs": [
    {
     "name": "stdout",
     "output_type": "stream",
     "text": [
      "Die Mangas\n"
     ]
    },
    {
     "data": {
      "text/html": [
       "<div>\n",
       "<style scoped>\n",
       "    .dataframe tbody tr th:only-of-type {\n",
       "        vertical-align: middle;\n",
       "    }\n",
       "\n",
       "    .dataframe tbody tr th {\n",
       "        vertical-align: top;\n",
       "    }\n",
       "\n",
       "    .dataframe thead th {\n",
       "        text-align: right;\n",
       "    }\n",
       "</style>\n",
       "<table border=\"1\" class=\"dataframe\">\n",
       "  <thead>\n",
       "    <tr style=\"text-align: right;\">\n",
       "      <th></th>\n",
       "      <th>mange_id</th>\n",
       "      <th>mange_title</th>\n",
       "      <th>band_name</th>\n",
       "      <th>Erscheinung_Jahr</th>\n",
       "      <th>Herausgeber</th>\n",
       "      <th>Autor</th>\n",
       "      <th>seitenzahl</th>\n",
       "    </tr>\n",
       "  </thead>\n",
       "  <tbody>\n",
       "    <tr>\n",
       "      <th>0</th>\n",
       "      <td>1</td>\n",
       "      <td>Attack on Titan</td>\n",
       "      <td>eins</td>\n",
       "      <td>2017</td>\n",
       "      <td>Egmont_Manga</td>\n",
       "      <td>Makoto Shinkal</td>\n",
       "      <td>180</td>\n",
       "    </tr>\n",
       "    <tr>\n",
       "      <th>1</th>\n",
       "      <td>2</td>\n",
       "      <td>Attack on Titan</td>\n",
       "      <td>eins</td>\n",
       "      <td>2014</td>\n",
       "      <td>Carlsen</td>\n",
       "      <td>Hajime Isayama</td>\n",
       "      <td>192</td>\n",
       "    </tr>\n",
       "    <tr>\n",
       "      <th>2</th>\n",
       "      <td>3</td>\n",
       "      <td>Death Note</td>\n",
       "      <td>eins</td>\n",
       "      <td>2015</td>\n",
       "      <td>TOKYOPOP</td>\n",
       "      <td>Takeshi Obata  und Tsugumi Ohba</td>\n",
       "      <td>208</td>\n",
       "    </tr>\n",
       "  </tbody>\n",
       "</table>\n",
       "</div>"
      ],
      "text/plain": [
       "   mange_id       mange_title band_name  Erscheinung_Jahr   Herausgeber  \\\n",
       "0         1   Attack on Titan      eins              2017  Egmont_Manga   \n",
       "1         2  Attack on Titan       eins              2014       Carlsen   \n",
       "2         3        Death Note      eins              2015      TOKYOPOP   \n",
       "\n",
       "                             Autor  seitenzahl  \n",
       "0                   Makoto Shinkal         180  \n",
       "1                   Hajime Isayama         192  \n",
       "2  Takeshi Obata  und Tsugumi Ohba         208  "
      ]
     },
     "execution_count": 8,
     "metadata": {},
     "output_type": "execute_result"
    }
   ],
   "source": [
    "import requests\n",
    "import pandas as pd\n",
    "from bs4 import BeautifulSoup\n",
    "url1=requests.get(\"http://127.0.0.1:5000/mangas\").json()\n",
    "df = pd.DataFrame(url1)\n",
    "print(\"Die Mangas\")\n",
    "df\n",
    "\n",
    "\n"
   ]
  },
  {
   "cell_type": "code",
   "execution_count": 9,
   "metadata": {},
   "outputs": [
    {
     "data": {
      "text/html": [
       "<div>\n",
       "<style scoped>\n",
       "    .dataframe tbody tr th:only-of-type {\n",
       "        vertical-align: middle;\n",
       "    }\n",
       "\n",
       "    .dataframe tbody tr th {\n",
       "        vertical-align: top;\n",
       "    }\n",
       "\n",
       "    .dataframe thead th {\n",
       "        text-align: right;\n",
       "    }\n",
       "</style>\n",
       "<table border=\"1\" class=\"dataframe\">\n",
       "  <thead>\n",
       "    <tr style=\"text-align: right;\">\n",
       "      <th></th>\n",
       "      <th>anime_id</th>\n",
       "      <th>anime_title</th>\n",
       "      <th>Erscheinung_Jahr</th>\n",
       "      <th>Herausgeber</th>\n",
       "      <th>länger</th>\n",
       "    </tr>\n",
       "  </thead>\n",
       "  <tbody>\n",
       "    <tr>\n",
       "      <th>0</th>\n",
       "      <td>1</td>\n",
       "      <td>Death Note</td>\n",
       "      <td>2006</td>\n",
       "      <td>Yosuke Yafune</td>\n",
       "      <td>125</td>\n",
       "    </tr>\n",
       "    <tr>\n",
       "      <th>1</th>\n",
       "      <td>2</td>\n",
       "      <td>Attack on Titan</td>\n",
       "      <td>2013</td>\n",
       "      <td>Mikasa Ackermann</td>\n",
       "      <td>120</td>\n",
       "    </tr>\n",
       "    <tr>\n",
       "      <th>2</th>\n",
       "      <td>3</td>\n",
       "      <td>One Piece</td>\n",
       "      <td>1999</td>\n",
       "      <td>Eiichirō Oda</td>\n",
       "      <td>24</td>\n",
       "    </tr>\n",
       "  </tbody>\n",
       "</table>\n",
       "</div>"
      ],
      "text/plain": [
       "   anime_id      anime_title  Erscheinung_Jahr       Herausgeber  länger\n",
       "0         1       Death Note              2006     Yosuke Yafune     125\n",
       "1         2  Attack on Titan              2013  Mikasa Ackermann     120\n",
       "2         3        One Piece              1999      Eiichirō Oda      24"
      ]
     },
     "execution_count": 9,
     "metadata": {},
     "output_type": "execute_result"
    }
   ],
   "source": [
    "import requests\n",
    "import pandas as pd\n",
    "from bs4 import BeautifulSoup\n",
    "url=requests.get(\"http://127.0.0.1:5000/animes\").json()\n",
    "df1 = pd.DataFrame(url)\n",
    "df1"
   ]
  },
  {
   "cell_type": "code",
   "execution_count": 10,
   "metadata": {},
   "outputs": [
    {
     "data": {
      "text/html": [
       "<div>\n",
       "<style scoped>\n",
       "    .dataframe tbody tr th:only-of-type {\n",
       "        vertical-align: middle;\n",
       "    }\n",
       "\n",
       "    .dataframe tbody tr th {\n",
       "        vertical-align: top;\n",
       "    }\n",
       "\n",
       "    .dataframe thead th {\n",
       "        text-align: right;\n",
       "    }\n",
       "</style>\n",
       "<table border=\"1\" class=\"dataframe\">\n",
       "  <thead>\n",
       "    <tr style=\"text-align: right;\">\n",
       "      <th></th>\n",
       "      <th>mange_id</th>\n",
       "      <th>mange_title</th>\n",
       "      <th>band_name</th>\n",
       "      <th>Erscheinung_Jahr</th>\n",
       "      <th>Herausgeber</th>\n",
       "      <th>Autor</th>\n",
       "      <th>seitenzahl</th>\n",
       "      <th>anime_id</th>\n",
       "      <th>anime_title</th>\n",
       "      <th>länger</th>\n",
       "    </tr>\n",
       "  </thead>\n",
       "  <tbody>\n",
       "    <tr>\n",
       "      <th>0</th>\n",
       "      <td>1.0</td>\n",
       "      <td>Attack on Titan</td>\n",
       "      <td>eins</td>\n",
       "      <td>2017</td>\n",
       "      <td>Egmont_Manga</td>\n",
       "      <td>Makoto Shinkal</td>\n",
       "      <td>180.0</td>\n",
       "      <td>NaN</td>\n",
       "      <td>NaN</td>\n",
       "      <td>NaN</td>\n",
       "    </tr>\n",
       "    <tr>\n",
       "      <th>1</th>\n",
       "      <td>2.0</td>\n",
       "      <td>Attack on Titan</td>\n",
       "      <td>eins</td>\n",
       "      <td>2014</td>\n",
       "      <td>Carlsen</td>\n",
       "      <td>Hajime Isayama</td>\n",
       "      <td>192.0</td>\n",
       "      <td>NaN</td>\n",
       "      <td>NaN</td>\n",
       "      <td>NaN</td>\n",
       "    </tr>\n",
       "    <tr>\n",
       "      <th>2</th>\n",
       "      <td>3.0</td>\n",
       "      <td>Death Note</td>\n",
       "      <td>eins</td>\n",
       "      <td>2015</td>\n",
       "      <td>TOKYOPOP</td>\n",
       "      <td>Takeshi Obata  und Tsugumi Ohba</td>\n",
       "      <td>208.0</td>\n",
       "      <td>NaN</td>\n",
       "      <td>NaN</td>\n",
       "      <td>NaN</td>\n",
       "    </tr>\n",
       "    <tr>\n",
       "      <th>3</th>\n",
       "      <td>NaN</td>\n",
       "      <td>NaN</td>\n",
       "      <td>NaN</td>\n",
       "      <td>2006</td>\n",
       "      <td>Yosuke Yafune</td>\n",
       "      <td>NaN</td>\n",
       "      <td>NaN</td>\n",
       "      <td>1.0</td>\n",
       "      <td>Death Note</td>\n",
       "      <td>125.0</td>\n",
       "    </tr>\n",
       "    <tr>\n",
       "      <th>4</th>\n",
       "      <td>NaN</td>\n",
       "      <td>NaN</td>\n",
       "      <td>NaN</td>\n",
       "      <td>2013</td>\n",
       "      <td>Mikasa Ackermann</td>\n",
       "      <td>NaN</td>\n",
       "      <td>NaN</td>\n",
       "      <td>2.0</td>\n",
       "      <td>Attack on Titan</td>\n",
       "      <td>120.0</td>\n",
       "    </tr>\n",
       "    <tr>\n",
       "      <th>5</th>\n",
       "      <td>NaN</td>\n",
       "      <td>NaN</td>\n",
       "      <td>NaN</td>\n",
       "      <td>1999</td>\n",
       "      <td>Eiichirō Oda</td>\n",
       "      <td>NaN</td>\n",
       "      <td>NaN</td>\n",
       "      <td>3.0</td>\n",
       "      <td>One Piece</td>\n",
       "      <td>24.0</td>\n",
       "    </tr>\n",
       "  </tbody>\n",
       "</table>\n",
       "</div>"
      ],
      "text/plain": [
       "   mange_id       mange_title band_name  Erscheinung_Jahr       Herausgeber  \\\n",
       "0       1.0   Attack on Titan      eins              2017      Egmont_Manga   \n",
       "1       2.0  Attack on Titan       eins              2014           Carlsen   \n",
       "2       3.0        Death Note      eins              2015          TOKYOPOP   \n",
       "3       NaN               NaN       NaN              2006     Yosuke Yafune   \n",
       "4       NaN               NaN       NaN              2013  Mikasa Ackermann   \n",
       "5       NaN               NaN       NaN              1999      Eiichirō Oda   \n",
       "\n",
       "                             Autor  seitenzahl  anime_id      anime_title  \\\n",
       "0                   Makoto Shinkal       180.0       NaN              NaN   \n",
       "1                   Hajime Isayama       192.0       NaN              NaN   \n",
       "2  Takeshi Obata  und Tsugumi Ohba       208.0       NaN              NaN   \n",
       "3                              NaN         NaN       1.0       Death Note   \n",
       "4                              NaN         NaN       2.0  Attack on Titan   \n",
       "5                              NaN         NaN       3.0        One Piece   \n",
       "\n",
       "   länger  \n",
       "0     NaN  \n",
       "1     NaN  \n",
       "2     NaN  \n",
       "3   125.0  \n",
       "4   120.0  \n",
       "5    24.0  "
      ]
     },
     "execution_count": 10,
     "metadata": {},
     "output_type": "execute_result"
    }
   ],
   "source": [
    "alle=pd.merge(df, df1, how = \"outer\")\n",
    "alle"
   ]
  },
  {
   "cell_type": "code",
   "execution_count": null,
   "metadata": {},
   "outputs": [],
   "source": []
  }
 ],
 "metadata": {
  "kernelspec": {
   "display_name": "Python 3",
   "language": "python",
   "name": "python3"
  },
  "language_info": {
   "codemirror_mode": {
    "name": "ipython",
    "version": 3
   },
   "file_extension": ".py",
   "mimetype": "text/x-python",
   "name": "python",
   "nbconvert_exporter": "python",
   "pygments_lexer": "ipython3",
   "version": "3.11.1 (tags/v3.11.1:a7a450f, Dec  6 2022, 19:58:39) [MSC v.1934 64 bit (AMD64)]"
  },
  "orig_nbformat": 4,
  "vscode": {
   "interpreter": {
    "hash": "4dd6269ff2aadd620a81973084ff6d0a91c084f90b436d6073e2c92bbb653196"
   }
  }
 },
 "nbformat": 4,
 "nbformat_minor": 2
}
